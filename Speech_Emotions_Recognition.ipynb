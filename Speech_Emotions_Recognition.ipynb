{
 "cells": [
  {
   "cell_type": "code",
   "execution_count": 1,
   "metadata": {},
   "outputs": [],
   "source": [
    "import librosa\n",
    "from sklearn import svm\n",
    "import librosa.display\n",
    "import matplotlib.pyplot as plt\n",
    "%matplotlib inline\n",
    "from sklearn.metrics import accuracy_score\n",
    "import random\n",
    "import seaborn as sns\n",
    "import numpy as np\n",
    "import pandas as pd\n",
    "from sklearn.svm import SVC\n",
    "model = SVC(kernel='linear', C=1E10)\n",
    "import os\n",
    "import warnings\n",
    "warnings.filterwarnings('ignore')"
   ]
  },
  {
   "cell_type": "code",
   "execution_count": 2,
   "metadata": {},
   "outputs": [],
   "source": [
    "# Here parameter ( file is label ) of oneFile, i.e. ( oneFile is some Audio File i.e. .wav file)\n",
    "# This fuction will extract features of the Audio File, Horizontally stack all features.\n",
    "\n",
    "def Wav_File_features(file, oneFile):\n",
    "    y, sr = librosa.load(os.getcwd() + '\\\\' + file + '\\\\' + oneFile)\n",
    "    stft = np.abs(librosa.stft(y))\n",
    "    mfcc = np.mean(librosa.feature.mfcc(y=y, sr=sr, n_mfcc=40).T,axis=0)\n",
    "    melspectrogram = np.mean(librosa.feature.melspectrogram(y=y, sr=sr).T, axis=0)\n",
    "    chroma = np.mean(librosa.feature.chroma_stft(S=stft, sr=sr).T, axis=0)\n",
    "    tonnetz = np.mean(librosa.feature.tonnetz(y=librosa.effects.harmonic(y), sr=sr).T, axis=0)\n",
    "    contrast_spectrogram =np.mean(librosa.feature.spectral_contrast(S=stft, sr=sr).T,axis=0) \n",
    "    return (np.hstack([mfcc,melspectrogram,chroma,tonnetz,contrast_spectrogram]))\n"
   ]
  },
  {
   "cell_type": "code",
   "execution_count": 3,
   "metadata": {},
   "outputs": [],
   "source": [
    "# This function will be used for both (extracting features of all Audio .wav fies ) from Training_Dataset and Test_Dataset as well\n",
    "\n",
    "def All_File_Features():\n",
    "    features = []\n",
    "    labels = []\n",
    "    fourFiles = os.listdir()\n",
    "    for file in fourFiles:\n",
    "        AudioFiles = os.listdir(os.path.join(os.getcwd(), file))\n",
    "        for oneFile in AudioFiles:\n",
    "            X = Wav_File_features(file, oneFile)\n",
    "            features.append(X)\n",
    "            labels.append(file)\n",
    "    return features,labels"
   ]
  },
  {
   "cell_type": "code",
   "execution_count": 4,
   "metadata": {},
   "outputs": [],
   "source": [
    "# This function will return all ( features and labels ) of all the files in Test_Dataset\n",
    "\n",
    "def test_features():\n",
    "    os.chdir(os.path.join(os.getcwd(), 'Test'))\n",
    "    features, labels = All_File_Features()\n",
    "    current_path = os.getcwd()\n",
    "    parent_path = os.path.dirname(os.getcwd())\n",
    "    os.chdir(parent_path)\n",
    "    return features, labels"
   ]
  },
  {
   "cell_type": "code",
   "execution_count": 5,
   "metadata": {},
   "outputs": [],
   "source": [
    "# This function will return all ( features and labels ) of all the files in Train_Dataset\n",
    "\n",
    "def train_features():\n",
    "    os.chdir(os.path.join(os.getcwd(), 'Train'))\n",
    "    features, labels = All_File_Features()\n",
    "    current_path = os.getcwd()\n",
    "    parent_path = os.path.dirname(os.getcwd())\n",
    "    os.chdir(parent_path)\n",
    "    return features, labels"
   ]
  },
  {
   "cell_type": "code",
   "execution_count": 6,
   "metadata": {},
   "outputs": [],
   "source": [
    "#This function will predict us Accuracy score or the score of prediction made by the Model.\n",
    "\n",
    "def Predict():\n",
    "    featuresForTest, labelsForTest = test_features()\n",
    "    prediction = model.predict(featuresForTest)\n",
    "    print('Accuracy Score: ' + str(accuracy_score(labelsForTest, prediction)))\n",
    "    score = model.score(featuresForTest, labelsForTest)\n",
    "    print('Score: ', score)"
   ]
  },
  {
   "cell_type": "code",
   "execution_count": 7,
   "metadata": {},
   "outputs": [],
   "source": [
    "# This function will generate a scatterplot of features using ( Training_Dataset )\n",
    "\n",
    "def scatterplot(features,labels):\n",
    "    frame = pd.DataFrame(features)\n",
    "    totla_columns = len(frame.columns)\n",
    "    frame1 = frame.iloc[:, :totla_columns//2]\n",
    "    frame2 = frame.iloc[:, totla_columns//2:]\n",
    "    df = pd.DataFrame(frame1.mean(axis=1),columns=['first_half'])\n",
    "    df['second_half'] = frame2.mean(axis=1)\n",
    "    df['labels'] = labels\n",
    "    color_dict = {'Angry': 'red', 'Sad':'blue', 'Neutral':'green', 'Happy':'yellow'}\n",
    "    sns.scatterplot(data=df, x = 'first_half', y = 'second_half', hue = \"labels\", palette = color_dict)"
   ]
  },
  {
   "cell_type": "code",
   "execution_count": 8,
   "metadata": {},
   "outputs": [],
   "source": [
    "# This function will predict emotion for one Audio file. You can change label, and name of file to test emotion in the file.\n",
    "\n",
    "def predict_Emotion():\n",
    "    os.chdir(os.path.join(os.getcwd(), 'Test'))\n",
    "    featureForSadFile = Wav_File_features('Sad', 'SM25_F34_S084.wav')\n",
    "    current_path = os.getcwd()\n",
    "    parent_path = os.path.dirname(os.getcwd())\n",
    "    os.chdir(parent_path)\n",
    "    print(model.predict([featureForSadFile]))"
   ]
  },
  {
   "cell_type": "code",
   "execution_count": 9,
   "metadata": {},
   "outputs": [],
   "source": [
    "\n",
    "os.chdir(os.path.join(os.getcwd(), 'SERDataset'))\n",
    "features, labels = train_features()               #Step 01    \n"
   ]
  },
  {
   "cell_type": "code",
   "execution_count": 10,
   "metadata": {},
   "outputs": [
    {
     "data": {
      "text/plain": [
       "SVC(C=10000000000.0, kernel='linear')"
      ]
     },
     "execution_count": 10,
     "metadata": {},
     "output_type": "execute_result"
    }
   ],
   "source": [
    "model.fit(features, labels)    #Step 02"
   ]
  },
  {
   "cell_type": "code",
   "execution_count": 11,
   "metadata": {},
   "outputs": [
    {
     "data": {
      "image/png": "[encoded data removed]",
      "text/plain": [
       "<Figure size 432x288 with 1 Axes>"
      ]
     },
     "metadata": {
      "needs_background": "light"
     },
     "output_type": "display_data"
    }
   ],
   "source": [
    "scatterplot(features,labels)   #Step 03"
   ]
  },
  {
   "cell_type": "code",
   "execution_count": 12,
   "metadata": {},
   "outputs": [
    {
     "name": "stdout",
     "output_type": "stream",
     "text": [
      "Accuracy Score: 1.0\n",
      "Score:  1.0\n"
     ]
    }
   ],
   "source": [
    "Predict()                      #Step 04_1"
   ]
  },
  {
   "cell_type": "code",
   "execution_count": 13,
   "metadata": {},
   "outputs": [
    {
     "name": "stdout",
     "output_type": "stream",
     "text": [
      "['Sad']\n"
     ]
    }
   ],
   "source": [
    "predict_Emotion()              #Step 04_2"
   ]
  },
  {
   "cell_type": "code",
   "execution_count": null,
   "metadata": {},
   "outputs": [],
   "source": []
  }
 ],
 "metadata": {
  "kernelspec": {
   "display_name": "Python 3",
   "language": "python",
   "name": "python3"
  },
  "language_info": {
   "codemirror_mode": {
    "name": "ipython",
    "version": 3
   },
   "file_extension": ".py",
   "mimetype": "text/x-python",
   "name": "python",
   "nbconvert_exporter": "python",
   "pygments_lexer": "ipython3",
   "version": "3.8.5"
  }
 },
 "nbformat": 4,
 "nbformat_minor": 4
}
